{
 "cells": [
  {
   "cell_type": "markdown",
   "metadata": {},
   "source": [
    "# Data Extraction"
   ]
  },
  {
   "cell_type": "code",
   "execution_count": 1,
   "metadata": {},
   "outputs": [],
   "source": [
    "#Import dependencies\n",
    "import pandas as pd\n",
    "import requests\n",
    "import json\n",
    "import os\n",
    "import numpy as np"
   ]
  },
  {
   "cell_type": "code",
   "execution_count": 2,
   "metadata": {},
   "outputs": [
    {
     "data": {
      "text/html": [
       "<div>\n",
       "<style scoped>\n",
       "    .dataframe tbody tr th:only-of-type {\n",
       "        vertical-align: middle;\n",
       "    }\n",
       "\n",
       "    .dataframe tbody tr th {\n",
       "        vertical-align: top;\n",
       "    }\n",
       "\n",
       "    .dataframe thead th {\n",
       "        text-align: right;\n",
       "    }\n",
       "</style>\n",
       "<table border=\"1\" class=\"dataframe\">\n",
       "  <thead>\n",
       "    <tr style=\"text-align: right;\">\n",
       "      <th></th>\n",
       "      <th>CITY</th>\n",
       "      <th>STATE</th>\n",
       "      <th>POPULATION</th>\n",
       "      <th>MARKET_SHARE</th>\n",
       "    </tr>\n",
       "  </thead>\n",
       "  <tbody>\n",
       "    <tr>\n",
       "      <th>0</th>\n",
       "      <td>Atchison</td>\n",
       "      <td>Kan.</td>\n",
       "      <td>16580</td>\n",
       "      <td>95%</td>\n",
       "    </tr>\n",
       "    <tr>\n",
       "      <th>1</th>\n",
       "      <td>Portales</td>\n",
       "      <td>N.M.</td>\n",
       "      <td>19730</td>\n",
       "      <td>95%</td>\n",
       "    </tr>\n",
       "    <tr>\n",
       "      <th>2</th>\n",
       "      <td>Sterling</td>\n",
       "      <td>Colo.</td>\n",
       "      <td>22068</td>\n",
       "      <td>91%</td>\n",
       "    </tr>\n",
       "    <tr>\n",
       "      <th>3</th>\n",
       "      <td>Deming</td>\n",
       "      <td>N.M.</td>\n",
       "      <td>24699</td>\n",
       "      <td>90%</td>\n",
       "    </tr>\n",
       "    <tr>\n",
       "      <th>4</th>\n",
       "      <td>Guymon</td>\n",
       "      <td>Ohio</td>\n",
       "      <td>21385</td>\n",
       "      <td>90%</td>\n",
       "    </tr>\n",
       "  </tbody>\n",
       "</table>\n",
       "</div>"
      ],
      "text/plain": [
       "       CITY   STATE  POPULATION MARKET_SHARE\n",
       "0  Atchison    Kan.       16580          95%\n",
       "1  Portales    N.M.       19730          95%\n",
       "2  Sterling   Colo.       22068          91%\n",
       "3    Deming    N.M.       24699          90%\n",
       "4    Guymon    Ohio       21385          90%"
      ]
     },
     "execution_count": 2,
     "metadata": {},
     "output_type": "execute_result"
    }
   ],
   "source": [
    "#Extract and view data from CSV\n",
    "walmart_marketShare = pd.read_csv('Resources/Walmart_MarketShare_data.csv')\n",
    "walmart_marketShare.head()"
   ]
  },
  {
   "cell_type": "code",
   "execution_count": 3,
   "metadata": {},
   "outputs": [
    {
     "data": {
      "text/html": [
       "<div>\n",
       "<style scoped>\n",
       "    .dataframe tbody tr th:only-of-type {\n",
       "        vertical-align: middle;\n",
       "    }\n",
       "\n",
       "    .dataframe tbody tr th {\n",
       "        vertical-align: top;\n",
       "    }\n",
       "\n",
       "    .dataframe thead th {\n",
       "        text-align: right;\n",
       "    }\n",
       "</style>\n",
       "<table border=\"1\" class=\"dataframe\">\n",
       "  <thead>\n",
       "    <tr style=\"text-align: right;\">\n",
       "      <th></th>\n",
       "      <th>id</th>\n",
       "      <th>storeType</th>\n",
       "      <th>timeZone</th>\n",
       "      <th>openDate</th>\n",
       "      <th>name</th>\n",
       "      <th>postalCode</th>\n",
       "      <th>address1</th>\n",
       "      <th>city</th>\n",
       "      <th>state</th>\n",
       "      <th>country</th>\n",
       "      <th>latitude</th>\n",
       "      <th>longitude</th>\n",
       "      <th>phone_number</th>\n",
       "    </tr>\n",
       "  </thead>\n",
       "  <tbody>\n",
       "    <tr>\n",
       "      <th>0</th>\n",
       "      <td>6601</td>\n",
       "      <td>3</td>\n",
       "      <td>K</td>\n",
       "      <td>01/04/1994 12:00</td>\n",
       "      <td>Sam's Club</td>\n",
       "      <td>99515</td>\n",
       "      <td>8801 Old Seward Hwy</td>\n",
       "      <td>Anchorage</td>\n",
       "      <td>AK</td>\n",
       "      <td>US</td>\n",
       "      <td>61.140770</td>\n",
       "      <td>-149.860016</td>\n",
       "      <td>(907) 522-2333</td>\n",
       "    </tr>\n",
       "    <tr>\n",
       "      <th>1</th>\n",
       "      <td>6602</td>\n",
       "      <td>3</td>\n",
       "      <td>K</td>\n",
       "      <td>01/06/1994 12:00</td>\n",
       "      <td>Sam's Club</td>\n",
       "      <td>99504</td>\n",
       "      <td>1074 N. Muldoon Road</td>\n",
       "      <td>Anchorage</td>\n",
       "      <td>AK</td>\n",
       "      <td>US</td>\n",
       "      <td>61.231079</td>\n",
       "      <td>-149.740844</td>\n",
       "      <td>(907) 276-2996</td>\n",
       "    </tr>\n",
       "    <tr>\n",
       "      <th>2</th>\n",
       "      <td>2074</td>\n",
       "      <td>1</td>\n",
       "      <td>K</td>\n",
       "      <td>03/29/1994 12:00</td>\n",
       "      <td>Walmart Supercenter</td>\n",
       "      <td>99654</td>\n",
       "      <td>1350 S Seward Meridian Pkwy</td>\n",
       "      <td>Wasilla</td>\n",
       "      <td>AK</td>\n",
       "      <td>US</td>\n",
       "      <td>61.568752</td>\n",
       "      <td>-149.363647</td>\n",
       "      <td>(907) 376-9780</td>\n",
       "    </tr>\n",
       "    <tr>\n",
       "      <th>3</th>\n",
       "      <td>2070</td>\n",
       "      <td>1</td>\n",
       "      <td>K</td>\n",
       "      <td>03/29/1994 12:00</td>\n",
       "      <td>Walmart Supercenter</td>\n",
       "      <td>99503</td>\n",
       "      <td>3101 A St</td>\n",
       "      <td>Anchorage</td>\n",
       "      <td>AK</td>\n",
       "      <td>US</td>\n",
       "      <td>61.192337</td>\n",
       "      <td>-149.880356</td>\n",
       "      <td>(907) 563-5900</td>\n",
       "    </tr>\n",
       "    <tr>\n",
       "      <th>4</th>\n",
       "      <td>6603</td>\n",
       "      <td>3</td>\n",
       "      <td>K</td>\n",
       "      <td>01/08/1994 12:00</td>\n",
       "      <td>Sam's Club</td>\n",
       "      <td>99701</td>\n",
       "      <td>48 College Rd</td>\n",
       "      <td>Fairbanks</td>\n",
       "      <td>AK</td>\n",
       "      <td>US</td>\n",
       "      <td>64.852867</td>\n",
       "      <td>-147.707336</td>\n",
       "      <td>(907) 451-4800</td>\n",
       "    </tr>\n",
       "  </tbody>\n",
       "</table>\n",
       "</div>"
      ],
      "text/plain": [
       "     id  storeType timeZone          openDate                 name postalCode  \\\n",
       "0  6601          3        K  01/04/1994 12:00           Sam's Club      99515   \n",
       "1  6602          3        K  01/06/1994 12:00           Sam's Club      99504   \n",
       "2  2074          1        K  03/29/1994 12:00  Walmart Supercenter      99654   \n",
       "3  2070          1        K  03/29/1994 12:00  Walmart Supercenter      99503   \n",
       "4  6603          3        K  01/08/1994 12:00           Sam's Club      99701   \n",
       "\n",
       "                      address1       city state country   latitude  \\\n",
       "0          8801 Old Seward Hwy  Anchorage    AK      US  61.140770   \n",
       "1         1074 N. Muldoon Road  Anchorage    AK      US  61.231079   \n",
       "2  1350 S Seward Meridian Pkwy    Wasilla    AK      US  61.568752   \n",
       "3                    3101 A St  Anchorage    AK      US  61.192337   \n",
       "4                48 College Rd  Fairbanks    AK      US  64.852867   \n",
       "\n",
       "    longitude    phone_number  \n",
       "0 -149.860016  (907) 522-2333  \n",
       "1 -149.740844  (907) 276-2996  \n",
       "2 -149.363647  (907) 376-9780  \n",
       "3 -149.880356  (907) 563-5900  \n",
       "4 -147.707336  (907) 451-4800  "
      ]
     },
     "execution_count": 3,
     "metadata": {},
     "output_type": "execute_result"
    }
   ],
   "source": [
    "#Extract and view data from JSON\n",
    "\n",
    "#1.Specify url\n",
    "url = \"https://gist.githubusercontent.com/anonymous/83803696b0e3430a52f1/raw/29f2b252981659dfa6ad51922c8155e66ac261b2/walmart.json\"\n",
    "\n",
    "#2. Get and print response\n",
    "walmart_locations = pd.DataFrame(requests.get(url).json())\n",
    "walmart_locations.head()"
   ]
  },
  {
   "cell_type": "markdown",
   "metadata": {},
   "source": [
    "# Data Transformation"
   ]
  },
  {
   "cell_type": "markdown",
   "metadata": {},
   "source": [
    "CSV Data Cleaning"
   ]
  },
  {
   "cell_type": "code",
   "execution_count": 4,
   "metadata": {},
   "outputs": [
    {
     "data": {
      "text/plain": [
       "CITY            object\n",
       "STATE           object\n",
       "POPULATION       int64\n",
       "MARKET_SHARE    object\n",
       "dtype: object"
      ]
     },
     "execution_count": 4,
     "metadata": {},
     "output_type": "execute_result"
    }
   ],
   "source": [
    "#Determine datatypes\n",
    "walmart_marketShare.dtypes"
   ]
  },
  {
   "cell_type": "code",
   "execution_count": 5,
   "metadata": {},
   "outputs": [
    {
     "data": {
      "text/plain": [
       "CITY            object\n",
       "STATE           object\n",
       "POPULATION       int64\n",
       "MARKET_SHARE     int32\n",
       "dtype: object"
      ]
     },
     "execution_count": 5,
     "metadata": {},
     "output_type": "execute_result"
    }
   ],
   "source": [
    "#Remove '%' from 'MARKET_SHARE' \n",
    "walmart_marketShare['MARKET_SHARE'] = walmart_marketShare['MARKET_SHARE'].str.replace('%','')\n",
    "#walmart_marketShare.head()\n",
    "\n",
    "#Convert from object to int\n",
    "walmart_marketShare = walmart_marketShare.astype({\"MARKET_SHARE\": int})\n",
    "walmart_marketShare.dtypes"
   ]
  },
  {
   "cell_type": "code",
   "execution_count": 13,
   "metadata": {},
   "outputs": [
    {
     "data": {
      "text/html": [
       "<div>\n",
       "<style scoped>\n",
       "    .dataframe tbody tr th:only-of-type {\n",
       "        vertical-align: middle;\n",
       "    }\n",
       "\n",
       "    .dataframe tbody tr th {\n",
       "        vertical-align: top;\n",
       "    }\n",
       "\n",
       "    .dataframe thead th {\n",
       "        text-align: right;\n",
       "    }\n",
       "</style>\n",
       "<table border=\"1\" class=\"dataframe\">\n",
       "  <thead>\n",
       "    <tr style=\"text-align: right;\">\n",
       "      <th></th>\n",
       "      <th>CITY</th>\n",
       "      <th>STATE</th>\n",
       "      <th>POPULATION</th>\n",
       "      <th>MARKET_SHARE</th>\n",
       "      <th>STATE_CODE</th>\n",
       "    </tr>\n",
       "  </thead>\n",
       "  <tbody>\n",
       "    <tr>\n",
       "      <th>0</th>\n",
       "      <td>Atchison</td>\n",
       "      <td>Kan.</td>\n",
       "      <td>16580</td>\n",
       "      <td>95</td>\n",
       "      <td>NaN</td>\n",
       "    </tr>\n",
       "    <tr>\n",
       "      <th>1</th>\n",
       "      <td>Portales</td>\n",
       "      <td>N.M.</td>\n",
       "      <td>19730</td>\n",
       "      <td>95</td>\n",
       "      <td>NaN</td>\n",
       "    </tr>\n",
       "    <tr>\n",
       "      <th>2</th>\n",
       "      <td>Sterling</td>\n",
       "      <td>Colo.</td>\n",
       "      <td>22068</td>\n",
       "      <td>91</td>\n",
       "      <td>NaN</td>\n",
       "    </tr>\n",
       "    <tr>\n",
       "      <th>3</th>\n",
       "      <td>Deming</td>\n",
       "      <td>N.M.</td>\n",
       "      <td>24699</td>\n",
       "      <td>90</td>\n",
       "      <td>NaN</td>\n",
       "    </tr>\n",
       "    <tr>\n",
       "      <th>4</th>\n",
       "      <td>Guymon</td>\n",
       "      <td>Ohio</td>\n",
       "      <td>21385</td>\n",
       "      <td>90</td>\n",
       "      <td>NaN</td>\n",
       "    </tr>\n",
       "  </tbody>\n",
       "</table>\n",
       "</div>"
      ],
      "text/plain": [
       "       CITY   STATE  POPULATION  MARKET_SHARE STATE_CODE\n",
       "0  Atchison    Kan.       16580            95        NaN\n",
       "1  Portales    N.M.       19730            95        NaN\n",
       "2  Sterling   Colo.       22068            91        NaN\n",
       "3    Deming    N.M.       24699            90        NaN\n",
       "4    Guymon    Ohio       21385            90        NaN"
      ]
     },
     "execution_count": 13,
     "metadata": {},
     "output_type": "execute_result"
    }
   ],
   "source": [
    "#Create dataframe\n",
    "marketShare_df = pd.DataFrame(walmart_marketShare)\n",
    "marketShare_df.head()"
   ]
  },
  {
   "cell_type": "code",
   "execution_count": 14,
   "metadata": {},
   "outputs": [],
   "source": [
    "us_state_abbrev={'Ala.': 'AL','Alaska': 'AK','AS': 'AS','Ariz.': 'AZ','Ark.': 'AR',\n",
    "                'Calif.': 'CA','Colo.': 'CO','Conn.': 'CT',\n",
    "                'Del.': 'DE', 'D.C.':'DC',\n",
    "                'Fla.': 'FL',\n",
    "                'Ga.': 'GA','Guam': 'GU',\n",
    "                 'Hawaii': 'HI',\n",
    "                 'Idaho': 'ID','Ill.': 'IL','Ind.': 'IN','Iowa': 'IA',\n",
    "                 'Kan.': 'KS','Ky.': 'KY',\n",
    "                 'La.': 'LA',\n",
    "                 'Maine': 'ME','Md.': 'MD','Mass.': 'MA','Mich.': 'MI','Minn.': 'MN','Miss.': 'MS','Mo.': 'MO','Mont.': 'MT',\n",
    "                 'Neb.': 'NE','Nev.': 'NV','N.H.': 'NH','N.J.': 'NJ','N.M.': 'NM','N.Y.': 'NY','N.C.': 'NC','N.D.': 'ND',\n",
    "                 'M.P.': 'MP',\n",
    "                 'Ohio': 'OH','Okla.': 'OK','Ore.': 'OR',\n",
    "                 'Pa.': 'PA','P.R.': 'PR',\n",
    "                 'R.I.': 'RI',\n",
    "                 'S.C.': 'SC','S.D.': 'SD',\n",
    "                 'Tenn.': 'TN','Tex.': 'TX',\n",
    "                 'Utah': 'UT',\n",
    "                 'Vt.': 'VT','VI': 'VI','Va.': 'VA',\n",
    "                 'Wash.': 'WA','W.Va.': 'WV','Wis.': 'WI','Wyo.': 'WY'\n",
    "                }"
   ]
  },
  {
   "cell_type": "code",
   "execution_count": null,
   "metadata": {},
   "outputs": [],
   "source": [
    "us_state_code = {'Ala.':'AL',\n",
    "                    'Alaska':'AK'}"
   ]
  },
  {
   "cell_type": "code",
   "execution_count": 18,
   "metadata": {},
   "outputs": [
    {
     "data": {
      "text/html": [
       "<div>\n",
       "<style scoped>\n",
       "    .dataframe tbody tr th:only-of-type {\n",
       "        vertical-align: middle;\n",
       "    }\n",
       "\n",
       "    .dataframe tbody tr th {\n",
       "        vertical-align: top;\n",
       "    }\n",
       "\n",
       "    .dataframe thead th {\n",
       "        text-align: right;\n",
       "    }\n",
       "</style>\n",
       "<table border=\"1\" class=\"dataframe\">\n",
       "  <thead>\n",
       "    <tr style=\"text-align: right;\">\n",
       "      <th></th>\n",
       "      <th>CITY</th>\n",
       "      <th>STATE</th>\n",
       "      <th>POPULATION</th>\n",
       "      <th>MARKET_SHARE</th>\n",
       "      <th>STATE_CODE</th>\n",
       "    </tr>\n",
       "  </thead>\n",
       "  <tbody>\n",
       "    <tr>\n",
       "      <th>0</th>\n",
       "      <td>Atchison</td>\n",
       "      <td>Kan.</td>\n",
       "      <td>16580</td>\n",
       "      <td>95</td>\n",
       "      <td>NaN</td>\n",
       "    </tr>\n",
       "    <tr>\n",
       "      <th>1</th>\n",
       "      <td>Portales</td>\n",
       "      <td>N.M.</td>\n",
       "      <td>19730</td>\n",
       "      <td>95</td>\n",
       "      <td>NaN</td>\n",
       "    </tr>\n",
       "    <tr>\n",
       "      <th>2</th>\n",
       "      <td>Sterling</td>\n",
       "      <td>Colo.</td>\n",
       "      <td>22068</td>\n",
       "      <td>91</td>\n",
       "      <td>NaN</td>\n",
       "    </tr>\n",
       "    <tr>\n",
       "      <th>3</th>\n",
       "      <td>Deming</td>\n",
       "      <td>N.M.</td>\n",
       "      <td>24699</td>\n",
       "      <td>90</td>\n",
       "      <td>NaN</td>\n",
       "    </tr>\n",
       "    <tr>\n",
       "      <th>4</th>\n",
       "      <td>Guymon</td>\n",
       "      <td>Ohio</td>\n",
       "      <td>21385</td>\n",
       "      <td>90</td>\n",
       "      <td>NaN</td>\n",
       "    </tr>\n",
       "    <tr>\n",
       "      <th>...</th>\n",
       "      <td>...</td>\n",
       "      <td>...</td>\n",
       "      <td>...</td>\n",
       "      <td>...</td>\n",
       "      <td>...</td>\n",
       "    </tr>\n",
       "    <tr>\n",
       "      <th>198</th>\n",
       "      <td>Maysville</td>\n",
       "      <td>Ky.</td>\n",
       "      <td>17230</td>\n",
       "      <td>50</td>\n",
       "      <td>NaN</td>\n",
       "    </tr>\n",
       "    <tr>\n",
       "      <th>199</th>\n",
       "      <td>Enid</td>\n",
       "      <td>Okla.</td>\n",
       "      <td>62602</td>\n",
       "      <td>50</td>\n",
       "      <td>NaN</td>\n",
       "    </tr>\n",
       "    <tr>\n",
       "      <th>200</th>\n",
       "      <td>Shawnee</td>\n",
       "      <td>Okla.</td>\n",
       "      <td>71961</td>\n",
       "      <td>50</td>\n",
       "      <td>NaN</td>\n",
       "    </tr>\n",
       "    <tr>\n",
       "      <th>201</th>\n",
       "      <td>Troy</td>\n",
       "      <td>Ala.</td>\n",
       "      <td>33368</td>\n",
       "      <td>50</td>\n",
       "      <td>NaN</td>\n",
       "    </tr>\n",
       "    <tr>\n",
       "      <th>202</th>\n",
       "      <td>Fort Morgan</td>\n",
       "      <td>Colo.</td>\n",
       "      <td>28721</td>\n",
       "      <td>50</td>\n",
       "      <td>NaN</td>\n",
       "    </tr>\n",
       "  </tbody>\n",
       "</table>\n",
       "<p>203 rows × 5 columns</p>\n",
       "</div>"
      ],
      "text/plain": [
       "            CITY    STATE  POPULATION  MARKET_SHARE STATE_CODE\n",
       "0       Atchison     Kan.       16580            95        NaN\n",
       "1       Portales     N.M.       19730            95        NaN\n",
       "2       Sterling    Colo.       22068            91        NaN\n",
       "3         Deming     N.M.       24699            90        NaN\n",
       "4         Guymon     Ohio       21385            90        NaN\n",
       "..           ...      ...         ...           ...        ...\n",
       "198    Maysville      Ky.       17230            50        NaN\n",
       "199         Enid    Okla.       62602            50        NaN\n",
       "200      Shawnee    Okla.       71961            50        NaN\n",
       "201         Troy     Ala.       33368            50        NaN\n",
       "202  Fort Morgan   Colo.        28721            50        NaN\n",
       "\n",
       "[203 rows x 5 columns]"
      ]
     },
     "execution_count": 18,
     "metadata": {},
     "output_type": "execute_result"
    }
   ],
   "source": [
    "#Replace 'STATE' values with two-letter state codes\n",
    "marketShare_df['STATE_CODE'] = marketShare_df['STATE'].map(us_state_abbrev, na_action='ignore')\n",
    "marketShare_df"
   ]
  },
  {
   "cell_type": "code",
   "execution_count": null,
   "metadata": {},
   "outputs": [],
   "source": [
    "walmart_marketShare_df[\"STATE\"].map(us_state_abbrev)\n",
    "walmart_marketShare_df.head()"
   ]
  },
  {
   "cell_type": "code",
   "execution_count": null,
   "metadata": {},
   "outputs": [],
   "source": [
    "import pandas as pd\n",
    "df= pd.DataFrame({'Country':['China','India','USA','Indonesia','Brazil'],\n",
    "                  'Population':[1403500365,1324171354,322179605,261115456,207652865]})\n",
    "df"
   ]
  },
  {
   "cell_type": "code",
   "execution_count": null,
   "metadata": {},
   "outputs": [],
   "source": [
    "country_capital={\n",
    "'Germany':'Berlin',\n",
    "'Brazil':'Brasília',\n",
    "'Budapest':'Hungary',\n",
    "'China':'Beijing',\n",
    "'India':'New Delhi',\n",
    "'Norway':'Oslo',\n",
    "'France':'Paris',\n",
    "'Indonesia': 'Jakarta',\n",
    "'USA':'Washington'\n",
    "}"
   ]
  },
  {
   "cell_type": "code",
   "execution_count": null,
   "metadata": {},
   "outputs": [],
   "source": [
    "df['Capital'] = df['Country'].map(country_capital)"
   ]
  },
  {
   "cell_type": "code",
   "execution_count": null,
   "metadata": {},
   "outputs": [],
   "source": [
    "df"
   ]
  },
  {
   "cell_type": "code",
   "execution_count": null,
   "metadata": {},
   "outputs": [],
   "source": [
    "print(df1.columns)"
   ]
  },
  {
   "cell_type": "code",
   "execution_count": null,
   "metadata": {},
   "outputs": [],
   "source": [
    "df1.columns = ['ID', 'STORE_TYPE', 'TIMEZONE', 'OPEN_DATE', 'NAME', 'POSTAL_CODE', 'ADDRESS1', 'CITY', 'STATE', 'COUNTRY', 'LATITUDE', 'LONGITUDE','PHONE_NUMBER']"
   ]
  },
  {
   "cell_type": "code",
   "execution_count": null,
   "metadata": {},
   "outputs": [],
   "source": [
    "df1"
   ]
  },
  {
   "cell_type": "code",
   "execution_count": null,
   "metadata": {},
   "outputs": [],
   "source": [
    "#view csv content\n",
    "df2 = pd.read_csv('Resources/Walmart_MarketShare_data.csv')\n",
    "df2"
   ]
  },
  {
   "cell_type": "markdown",
   "metadata": {},
   "source": [
    "Clean \"POPULATION\" column, integer dtype."
   ]
  },
  {
   "cell_type": "code",
   "execution_count": null,
   "metadata": {},
   "outputs": [],
   "source": [
    "df2.iloc[:, 1]"
   ]
  },
  {
   "cell_type": "code",
   "execution_count": null,
   "metadata": {},
   "outputs": [],
   "source": [
    "print(df2.columns)"
   ]
  },
  {
   "cell_type": "code",
   "execution_count": null,
   "metadata": {},
   "outputs": [],
   "source": [
    "df2.dtypes"
   ]
  },
  {
   "cell_type": "code",
   "execution_count": null,
   "metadata": {},
   "outputs": [],
   "source": [
    "#replace \"STATE\" with two-letter code\n"
   ]
  },
  {
   "cell_type": "code",
   "execution_count": null,
   "metadata": {},
   "outputs": [],
   "source": [
    "merged_df = pd.merge(df1, df2, on='CITY')\n",
    "merged_df"
   ]
  },
  {
   "cell_type": "code",
   "execution_count": null,
   "metadata": {},
   "outputs": [],
   "source": [
    "rem_duplicates = merged_df.drop_duplicates()\n",
    "rem_duplicates"
   ]
  },
  {
   "cell_type": "markdown",
   "metadata": {},
   "source": [
    "Summary tables/groupby tables per state"
   ]
  },
  {
   "cell_type": "code",
   "execution_count": null,
   "metadata": {},
   "outputs": [],
   "source": [
    "state = merged_df.groupby('STATE_x')\n",
    "state"
   ]
  },
  {
   "cell_type": "code",
   "execution_count": null,
   "metadata": {},
   "outputs": [],
   "source": []
  }
 ],
 "metadata": {
  "kernelspec": {
   "display_name": "Python 3",
   "language": "python",
   "name": "python3"
  },
  "language_info": {
   "codemirror_mode": {
    "name": "ipython",
    "version": 3
   },
   "file_extension": ".py",
   "mimetype": "text/x-python",
   "name": "python",
   "nbconvert_exporter": "python",
   "pygments_lexer": "ipython3",
   "version": "3.8.3"
  }
 },
 "nbformat": 4,
 "nbformat_minor": 4
}
