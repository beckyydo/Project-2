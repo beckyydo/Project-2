{
 "cells": [
  {
   "cell_type": "code",
   "execution_count": 7,
   "metadata": {},
   "outputs": [],
   "source": [
    "# Import dependencies\n",
    "import pandas as pd\n",
    "import requests \n",
    "import json\n",
    "from pprint import pprint\n",
    "import numpy as np\n",
    "from sqlalchemy import create_engine\n",
    "from config import connection_string\n",
    "import warnings\n",
    "warnings.filterwarnings(\"ignore\")"
   ]
  },
  {
   "cell_type": "code",
   "execution_count": null,
   "metadata": {},
   "outputs": [],
   "source": [
    "# Read csv and json data\n",
<<<<<<< Updated upstream
    "prices_df= pd.read_csv('Resources/prices.csv')\n",
    "sales_aug_df= pd.read_csv('Resources/sales_aug.csv')\n",
    "walmart_df=pd.read_json('Resources/walmart.json')\n",
=======
    "prices= pd.read_csv('Resources/prices.csv')\n",
    "sales_aug= pd.read_csv('Resources/sales_aug.csv')\n",
    "walmart=pd.read_json('Resources/walmart.json')\n",
>>>>>>> Stashed changes
    "us_state= pd.read_csv('Resources/US_states.csv')"
   ]
  },
  {
   "cell_type": "code",
   "execution_count": null,
   "metadata": {},
   "outputs": [],
   "source": [
    "# Display walmart(json)\n",
    "walmart_df.head()"
   ]
  },
  {
   "cell_type": "code",
   "execution_count": null,
   "metadata": {},
   "outputs": [],
   "source": [
    "# Display sales_aug(csv)\n",
    "sales_aug_df.head()"
   ]
  },
  {
   "cell_type": "code",
   "execution_count": null,
   "metadata": {},
   "outputs": [],
   "source": [
    "# Dispaly Prices (csv) \n",
    "prices_df.head()"
   ]
  },
  {
   "cell_type": "code",
   "execution_count": null,
   "metadata": {},
   "outputs": [],
   "source": []
  }
 ],
 "metadata": {
  "kernelspec": {
   "display_name": "Python 3",
   "language": "python",
   "name": "python3"
  },
  "language_info": {
   "codemirror_mode": {
    "name": "ipython",
    "version": 3
   },
   "file_extension": ".py",
   "mimetype": "text/x-python",
   "name": "python",
   "nbconvert_exporter": "python",
   "pygments_lexer": "ipython3",
   "version": "3.8.3"
  }
 },
 "nbformat": 4,
 "nbformat_minor": 4
}
