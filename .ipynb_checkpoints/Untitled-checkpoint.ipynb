{
 "cells": [
  {
   "cell_type": "code",
   "execution_count": null,
   "metadata": {},
   "outputs": [],
   "source": [
    "# Filtering to show just walmart Supercenter data\n",
    "walmart = walmart[walmart.storeType.eq(1)]\n",
    "walmart"
   ]
  },
  {
   "cell_type": "code",
   "execution_count": null,
   "metadata": {},
   "outputs": [],
   "source": [
    "# Data types of the datafram and number, and percentage of NAN values (walmart):\n",
    "def missing_data(data):\n",
    "    total = data.isnull().sum()\n",
    "    percent = (data.isnull().sum()/data.isnull().count()*100)\n",
    "    missing_values = pd.concat([total, percent], axis=1, keys=['Total', 'Percent'])\n",
    "    types = []\n",
    "    #Convert to string and add to list\n",
    "    for col in data.columns: \n",
    "        dtype = str(data[col].dtype)\n",
    "        types.append(dtype)\n",
    "    missing_values['Types'] = types\n",
    "    return(np.transpose(missing_values))\n",
    "\n",
    "# Run function:\n",
    "missing_data(walmart)"
   ]
  },
  {
   "cell_type": "code",
   "execution_count": null,
   "metadata": {},
   "outputs": [],
   "source": [
    "# Data types of the datafram and number, and percentage of NAN values (sales_aug):\n",
    "missing_data(sales_aug)"
   ]
  },
  {
   "cell_type": "code",
   "execution_count": null,
   "metadata": {},
   "outputs": [],
   "source": [
    "# Data types of the datafram and number, and percentage of NAN values (prices):\n",
    "missing_data(prices)"
   ]
  },
  {
   "cell_type": "code",
   "execution_count": null,
   "metadata": {},
   "outputs": [],
   "source": [
    "# Drop NAN values of prices\n",
    "prices = prices.dropna()\n",
    "missing_data(prices)"
   ]
  },
  {
   "cell_type": "code",
   "execution_count": null,
   "metadata": {},
   "outputs": [],
   "source": [
    "# Adding all the day columns in sales_aug to get a sum of quantity column for days:\n",
    "cols_to_keep=[col for col in sales_aug.columns if col.startswith('d_')==False]\n",
    "cols_to_sum=[col for col in sales_aug.columns if col.startswith('d_')]\n",
    "sum_df=sales_aug[cols_to_sum].sum(axis=1)\n",
    "sum_df=pd.DataFrame(sum_df, columns=['Sum Quantity'])\n",
    "\n",
    "keep_df=sales_aug[cols_to_keep]\n",
    "\n",
    "\n",
    "finalsales=keep_df.join(sum_df)\n",
    "\n",
    "# Rename state_id to state\n",
    "finalsales.rename(columns={\"state_id\":\"state\"}, inplace=True)\n",
    "Columns=[\"id\", \"item_id\", \"dept_id\", \"cat_id\", \"store_id\", \"state\", \"Sum Quantity\"]\n",
    "finalsales_df=finalsales[Columns]\n",
    "finalsales_df"
   ]
  },
  {
   "cell_type": "code",
   "execution_count": null,
   "metadata": {},
   "outputs": [],
   "source": [
    "# Adding all the day columns in prices to get an average price column for days:\n",
    "column_to_keep=[col for col in prices.columns if col.startswith('d_')==False]\n",
    "column_to_avg=[col for col in prices.columns if col.startswith('d_')]\n",
    "avg_df=prices[column_to_avg].mean(axis=1)\n",
    "avg_df=pd.DataFrame(avg_df, columns=['Avg Prices'])\n",
    "\n",
    "keeps_df=prices[column_to_keep]\n",
    "\n",
    "\n",
    "finalprices_df=keeps_df.join(avg_df)\n",
    "finalprices_df = finalprices_df.round({'Avg Prices': 3})\n",
    "finalprices_df"
   ]
  },
  {
   "cell_type": "code",
   "execution_count": null,
   "metadata": {},
   "outputs": [],
   "source": [
    "# Merging finalprices_df with finalsales_df  \n",
    "merged_df=finalprices_df.merge(finalsales_df, on=\"id\", how=\"inner\")\n",
    "merged_df"
   ]
  },
  {
   "cell_type": "code",
   "execution_count": null,
   "metadata": {},
   "outputs": [],
   "source": [
    "#Total quantity and average prices for each category in the discussed states(CA, TX, WI) \n",
    "merged_groupby=merged_df.groupby([\"state\", \"cat_id\"])\n",
    "state_category = pd.DataFrame(merged_groupby.agg({'Sum Quantity': 'sum', 'Avg Prices': 'mean'}).reset_index())\n",
    "state_category = state_category.round({'Avg Prices': 3})\n",
    "state_category"
   ]
  },
  {
   "cell_type": "code",
   "execution_count": null,
   "metadata": {},
   "outputs": [],
   "source": [
    "# Calculate count of stores in each state\n",
    "walmart_stores=pd.DataFrame(walmart['state'].value_counts(sort=True))\n",
    "walmart_stores.reset_index(inplace=True)\n",
    "walmart_stores.rename(columns={\"index\":\"state\", \"state\":\"total stores\"}, inplace=True)\n",
    "walmart_stores.head()"
   ]
  },
  {
   "cell_type": "code",
   "execution_count": null,
   "metadata": {},
   "outputs": [],
   "source": [
    "# Total quantity and average prices for each category and count of stores in each discussed state(CA, TX, WI)\n",
    "walmart_state_cat = state_category.merge(walmart_stores, on=\"state\", how=\"inner\")\n",
    "walmart_state_cat"
   ]
  },
  {
   "cell_type": "code",
   "execution_count": null,
   "metadata": {},
   "outputs": [],
   "source": [
    "# Total quantity and average prices and count of stores in each discussed state(CA, TX, WI)\n",
    "merge_group=merged_df.groupby([\"state\"])\n",
    "state_sale = pd.DataFrame(merge_group.agg({'Sum Quantity': 'sum', 'Avg Prices': 'mean'}).reset_index())\n",
    "\n",
    "state_store_sale=state_sale.merge(walmart_stores, on=\"state\", how=\"inner\")\n",
    "state_store_sale"
   ]
  },
  {
   "cell_type": "code",
   "execution_count": null,
   "metadata": {},
   "outputs": [],
   "source": [
    "# create CAfoods dataframe \n",
    "CAfoods = merged_df.loc[(merged_df[\"cat_id\"]=='FOODS') & (merged_df[\"state\"]==\"CA\"),:]\n",
    "CAfoods"
   ]
  }
 ],
 "metadata": {
  "kernelspec": {
   "display_name": "Python 3",
   "language": "python",
   "name": "python3"
  },
  "language_info": {
   "codemirror_mode": {
    "name": "ipython",
    "version": 3
   },
   "file_extension": ".py",
   "mimetype": "text/x-python",
   "name": "python",
   "nbconvert_exporter": "python",
   "pygments_lexer": "ipython3",
   "version": "3.8.3"
  }
 },
 "nbformat": 4,
 "nbformat_minor": 4
}
