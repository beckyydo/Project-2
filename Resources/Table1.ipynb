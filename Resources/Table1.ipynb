{
 "cells": [
  {
   "cell_type": "code",
   "execution_count": 1,
   "metadata": {},
   "outputs": [],
   "source": [
    "import pandas as pd"
   ]
  },
  {
   "cell_type": "code",
   "execution_count": 2,
   "metadata": {},
   "outputs": [],
   "source": [
    "stock = pd.read_csv(\"stock.csv\")"
   ]
  },
  {
   "cell_type": "code",
   "execution_count": 3,
   "metadata": {},
   "outputs": [
    {
     "data": {
      "text/html": [
       "<div>\n",
       "<style scoped>\n",
       "    .dataframe tbody tr th:only-of-type {\n",
       "        vertical-align: middle;\n",
       "    }\n",
       "\n",
       "    .dataframe tbody tr th {\n",
       "        vertical-align: top;\n",
       "    }\n",
       "\n",
       "    .dataframe thead th {\n",
       "        text-align: right;\n",
       "    }\n",
       "</style>\n",
       "<table border=\"1\" class=\"dataframe\">\n",
       "  <thead>\n",
       "    <tr style=\"text-align: right;\">\n",
       "      <th></th>\n",
       "      <th>Date</th>\n",
       "      <th>Open</th>\n",
       "      <th>High</th>\n",
       "      <th>Low</th>\n",
       "      <th>Close</th>\n",
       "      <th>Adj Close</th>\n",
       "      <th>Volume</th>\n",
       "    </tr>\n",
       "  </thead>\n",
       "  <tbody>\n",
       "    <tr>\n",
       "      <th>0</th>\n",
       "      <td>1972-08-25</td>\n",
       "      <td>0.063477</td>\n",
       "      <td>0.064697</td>\n",
       "      <td>0.063477</td>\n",
       "      <td>0.064453</td>\n",
       "      <td>0.023123</td>\n",
       "      <td>2508800</td>\n",
       "    </tr>\n",
       "    <tr>\n",
       "      <th>1</th>\n",
       "      <td>1972-08-28</td>\n",
       "      <td>0.064453</td>\n",
       "      <td>0.064941</td>\n",
       "      <td>0.064209</td>\n",
       "      <td>0.064209</td>\n",
       "      <td>0.023035</td>\n",
       "      <td>972800</td>\n",
       "    </tr>\n",
       "    <tr>\n",
       "      <th>2</th>\n",
       "      <td>1972-08-29</td>\n",
       "      <td>0.063965</td>\n",
       "      <td>0.063965</td>\n",
       "      <td>0.063477</td>\n",
       "      <td>0.063477</td>\n",
       "      <td>0.022772</td>\n",
       "      <td>1945600</td>\n",
       "    </tr>\n",
       "    <tr>\n",
       "      <th>3</th>\n",
       "      <td>1972-08-30</td>\n",
       "      <td>0.063477</td>\n",
       "      <td>0.063477</td>\n",
       "      <td>0.062988</td>\n",
       "      <td>0.063477</td>\n",
       "      <td>0.022772</td>\n",
       "      <td>409600</td>\n",
       "    </tr>\n",
       "    <tr>\n",
       "      <th>4</th>\n",
       "      <td>1972-08-31</td>\n",
       "      <td>0.062988</td>\n",
       "      <td>0.062988</td>\n",
       "      <td>0.062500</td>\n",
       "      <td>0.062500</td>\n",
       "      <td>0.022422</td>\n",
       "      <td>870400</td>\n",
       "    </tr>\n",
       "  </tbody>\n",
       "</table>\n",
       "</div>"
      ],
      "text/plain": [
       "         Date      Open      High       Low     Close  Adj Close   Volume\n",
       "0  1972-08-25  0.063477  0.064697  0.063477  0.064453   0.023123  2508800\n",
       "1  1972-08-28  0.064453  0.064941  0.064209  0.064209   0.023035   972800\n",
       "2  1972-08-29  0.063965  0.063965  0.063477  0.063477   0.022772  1945600\n",
       "3  1972-08-30  0.063477  0.063477  0.062988  0.063477   0.022772   409600\n",
       "4  1972-08-31  0.062988  0.062988  0.062500  0.062500   0.022422   870400"
      ]
     },
     "execution_count": 3,
     "metadata": {},
     "output_type": "execute_result"
    }
   ],
   "source": [
    "stock.head()"
   ]
  },
  {
   "cell_type": "code",
   "execution_count": null,
   "metadata": {},
   "outputs": [],
   "source": []
  }
 ],
 "metadata": {
  "kernelspec": {
   "display_name": "Python 3",
   "language": "python",
   "name": "python3"
  },
  "language_info": {
   "codemirror_mode": {
    "name": "ipython",
    "version": 3
   },
   "file_extension": ".py",
   "mimetype": "text/x-python",
   "name": "python",
   "nbconvert_exporter": "python",
   "pygments_lexer": "ipython3",
   "version": "3.8.3"
  }
 },
 "nbformat": 4,
 "nbformat_minor": 4
}
